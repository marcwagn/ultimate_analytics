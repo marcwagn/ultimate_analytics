{
 "cells": [
  {
   "cell_type": "code",
   "execution_count": 1,
   "metadata": {},
   "outputs": [],
   "source": [
    "import os\n",
    "import supervisely as sly\n",
    "import json \n",
    "\n",
    "from pathlib import Path\n",
    "from dotenv import load_dotenv\n",
    "\n"
   ]
  },
  {
   "cell_type": "markdown",
   "metadata": {},
   "source": [
    "# Download images from supervisely"
   ]
  },
  {
   "cell_type": "code",
   "execution_count": 3,
   "metadata": {},
   "outputs": [
    {
     "name": "stdout",
     "output_type": "stream",
     "text": [
      "<class 'supervisely.api.image_api.ImageInfo'>\n",
      "<class 'supervisely.api.image_api.ImageInfo'>\n",
      "<class 'supervisely.api.image_api.ImageInfo'>\n",
      "<class 'supervisely.api.image_api.ImageInfo'>\n",
      "<class 'supervisely.api.image_api.ImageInfo'>\n"
     ]
    }
   ],
   "source": [
    "api = sly.Api.from_env()\n",
    "\n",
    "api.dataset.get_list(290921)\n",
    "\n",
    "image_info_list = api.image.get_list(924169)\n",
    "\n",
    "for image in image_info_list:\n",
    "    print(type(image))\n",
    "#api.annotation.download(image_info_list[0].id).annotation\n",
    "\n",
    "    \n"
   ]
  },
  {
   "cell_type": "code",
   "execution_count": 3,
   "metadata": {},
   "outputs": [],
   "source": [
    "project_id = 290921\n",
    "dataset_id = 924250\n",
    "\n",
    "output_path=Path(\"../data/raw\")\n",
    "\n",
    "(output_path / \"images\").mkdir(parents=True, exist_ok=True)\n",
    "(output_path / \"annotations\").mkdir(parents=True, exist_ok=True)\n",
    "\n",
    "#connect to supervisely\n",
    "if sly.is_development():\n",
    "    load_dotenv(os.path.expanduser(\"~/supervisely.env\"))\n",
    "\n",
    "api = sly.Api.from_env()\n",
    "\n",
    "# save class metadata\n",
    "metadata = api.project.get_meta(project_id)\n",
    "\n",
    "with open(output_path / \"meta.json\", \"w\") as outfile: \n",
    "    json.dump(metadata, outfile, indent=4)\n",
    "\n",
    "# save images and annotations\n",
    "\n",
    "image_info_list = api.image.get_list(dataset_id)\n",
    "\n",
    "for image in image_info_list[:10]:\n",
    "    image_id = image.id\n",
    "    image_name = Path(image.name)\n",
    "    save_path_image = output_path / \"images\" / image_name\n",
    "    save_path_annotation = str(output_path / \"annotations\" / image_name.stem) + \".json\"\n",
    "    \n",
    "    #save video\n",
    "    api.image.download_path(image_id, save_path_image)\n",
    "\n",
    "    #save annotation\n",
    "    video_ann_json = api.video.annotation.download(image_id)\n",
    "    with open(save_path_annotation, \"w\") as outfile: \n",
    "        json.dump(video_ann_json, outfile, indent=4)"
   ]
  },
  {
   "cell_type": "markdown",
   "metadata": {},
   "source": [
    "# Download video dataset from supervisely"
   ]
  },
  {
   "cell_type": "code",
   "execution_count": 7,
   "metadata": {},
   "outputs": [],
   "source": [
    "project_id = 289160\n",
    "dataset_id = 920594\n",
    "\n",
    "videos_path=Path(\"../data/raw/videos\")\n",
    "if not os.path.exists(videos_path):\n",
    "    os.makedirs(videos_path)\n",
    "\n",
    "annotations_path=Path(\"../data/raw/annotations\")\n",
    "if not os.path.exists(annotations_path):\n",
    "    os.makedirs(annotations_path)\n",
    "    \n",
    "api = sly.Api.from_env()\n",
    "\n",
    "video_info_list = api.video.get_list(dataset_id)\n",
    "\n",
    "for video in video_info_list:\n",
    "    video_id = video.id\n",
    "    video_name = Path(video.name)\n",
    "    save_path_video = videos_path / video_name\n",
    "    save_path_annotation = str(annotations_path / video_name.stem) + \".json\"\n",
    "    \n",
    "    #save video\n",
    "    api.video.download_path(video_id, save_path_video)\n",
    "\n",
    "    #save annotation\n",
    "    video_ann_json = api.video.annotation.download(video_id)\n",
    "    with open(save_path_annotation, \"w\") as outfile: \n",
    "        json.dump(video_ann_json, outfile, indent=4)\n"
   ]
  },
  {
   "cell_type": "code",
   "execution_count": 11,
   "metadata": {},
   "outputs": [
    {
     "data": {
      "text/plain": [
       "ImageInfo(id=335392551, name='sockeye_vs_rhino_slam_pool_004.mp4_00000.jpg', link=None, hash='t6E249ExBMJalaUNetr8oFySeidNHEA7KiPUtIgu1Oo=', mime='image/jpeg', ext='jpeg', size=2351073, width=3840, height=2160, labels_count=26, dataset_id=923019, created_at='2024-02-28T10:01:15.928Z', updated_at='2024-02-28T10:01:15.928Z', meta={'video_id': 334902636, 'video_name': 'sockeye_vs_rhino_slam_pool_004.mp4', 'frame_index': 0, 'video_dataset_id': 920594, 'video_project_id': 289160, 'video_dataset_name': 'test', 'video_project_name': 'ultimate_analytics'}, path_original='/h5un6l2bnaz1vj8a9qgms4-public/images/original/V/6/1Q/ZvQTeC89p48IASvqwURGTK6Oozq49JSIVFJe5ZjSjlUOXFJeHeggICnFjsoiYd1VY7DcxuOCAv1y2JuIUF0IY8kjatug39fdsK1QyykH3khMIyBQbUNn967M73o1.jpg', full_storage_url='https://app.supervisely.com/h5un6l2bnaz1vj8a9qgms4-public/images/original/V/6/1Q/ZvQTeC89p48IASvqwURGTK6Oozq49JSIVFJe5ZjSjlUOXFJeHeggICnFjsoiYd1VY7DcxuOCAv1y2JuIUF0IY8kjatug39fdsK1QyykH3khMIyBQbUNn967M73o1.jpg', tags=[])"
      ]
     },
     "execution_count": 11,
     "metadata": {},
     "output_type": "execute_result"
    }
   ],
   "source": []
  }
 ],
 "metadata": {
  "kernelspec": {
   "display_name": "ultimate",
   "language": "python",
   "name": "python3"
  },
  "language_info": {
   "codemirror_mode": {
    "name": "ipython",
    "version": 3
   },
   "file_extension": ".py",
   "mimetype": "text/x-python",
   "name": "python",
   "nbconvert_exporter": "python",
   "pygments_lexer": "ipython3",
   "version": "3.11.8"
  }
 },
 "nbformat": 4,
 "nbformat_minor": 2
}
