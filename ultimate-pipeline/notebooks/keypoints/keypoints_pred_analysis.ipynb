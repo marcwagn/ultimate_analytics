{
 "cells": [
  {
   "cell_type": "markdown",
   "metadata": {},
   "source": [
    "### Analyze outliers in detection/prediction results"
   ]
  },
  {
   "cell_type": "code",
   "execution_count": 2,
   "metadata": {},
   "outputs": [],
   "source": [
    "import pandas as pd\n",
    "import numpy as np\n",
    "import os"
   ]
  },
  {
   "cell_type": "code",
   "execution_count": 35,
   "metadata": {},
   "outputs": [],
   "source": [
    "def read_prediction_dataframe_from_dir(folder: str, is_tracking=False) -> pd.DataFrame:\n",
    "    file_list = sorted(os.listdir(folder))\n",
    "    dfs = []\n",
    "    for f in file_list:\n",
    "        #print(f)\n",
    "        columns=[\"cls\", \"x\", \"y\", \"w\", \"h\", \"conf\", \"id\"] if is_tracking else [\"cls\", \"x\", \"y\", \"w\", \"h\", \"conf\"]\n",
    "\n",
    "        df = pd.read_csv(os.path.join(folder, f), sep=\" \", header=None, names=columns)\n",
    "        df[\"frame\"] = f\n",
    "        keypoints_df = df[df[\"cls\"].isin([31, 32])]\n",
    "        #print(keypoints_df)\n",
    "        dfs.append(keypoints_df)\n",
    "\n",
    "    return pd.concat(dfs)"
   ]
  },
  {
   "cell_type": "code",
   "execution_count": 36,
   "metadata": {},
   "outputs": [
    {
     "name": "stdout",
     "output_type": "stream",
     "text": [
      "/home/adam/Projects/DSR/ultimate_analytics/ultimate-pipeline/notebooks/keypoints\n",
      "33517\n"
     ]
    },
    {
     "data": {
      "text/html": [
       "<div>\n",
       "<style scoped>\n",
       "    .dataframe tbody tr th:only-of-type {\n",
       "        vertical-align: middle;\n",
       "    }\n",
       "\n",
       "    .dataframe tbody tr th {\n",
       "        vertical-align: top;\n",
       "    }\n",
       "\n",
       "    .dataframe thead th {\n",
       "        text-align: right;\n",
       "    }\n",
       "</style>\n",
       "<table border=\"1\" class=\"dataframe\">\n",
       "  <thead>\n",
       "    <tr style=\"text-align: right;\">\n",
       "      <th></th>\n",
       "      <th>cls</th>\n",
       "      <th>x</th>\n",
       "      <th>y</th>\n",
       "      <th>w</th>\n",
       "      <th>h</th>\n",
       "      <th>conf</th>\n",
       "      <th>frame</th>\n",
       "    </tr>\n",
       "  </thead>\n",
       "  <tbody>\n",
       "    <tr>\n",
       "      <th>0</th>\n",
       "      <td>31</td>\n",
       "      <td>0.699563</td>\n",
       "      <td>0.102965</td>\n",
       "      <td>0.010986</td>\n",
       "      <td>0.019179</td>\n",
       "      <td>0.914857</td>\n",
       "      <td>pony_vs_the_killjoys_pool_013_1.txt</td>\n",
       "    </tr>\n",
       "    <tr>\n",
       "      <th>9</th>\n",
       "      <td>31</td>\n",
       "      <td>0.342411</td>\n",
       "      <td>0.104897</td>\n",
       "      <td>0.009255</td>\n",
       "      <td>0.016351</td>\n",
       "      <td>0.699574</td>\n",
       "      <td>pony_vs_the_killjoys_pool_013_1.txt</td>\n",
       "    </tr>\n",
       "    <tr>\n",
       "      <th>12</th>\n",
       "      <td>31</td>\n",
       "      <td>0.731543</td>\n",
       "      <td>0.135071</td>\n",
       "      <td>0.010216</td>\n",
       "      <td>0.017926</td>\n",
       "      <td>0.637236</td>\n",
       "      <td>pony_vs_the_killjoys_pool_013_1.txt</td>\n",
       "    </tr>\n",
       "    <tr>\n",
       "      <th>13</th>\n",
       "      <td>32</td>\n",
       "      <td>0.519936</td>\n",
       "      <td>0.182404</td>\n",
       "      <td>0.009739</td>\n",
       "      <td>0.016709</td>\n",
       "      <td>0.625701</td>\n",
       "      <td>pony_vs_the_killjoys_pool_013_1.txt</td>\n",
       "    </tr>\n",
       "    <tr>\n",
       "      <th>16</th>\n",
       "      <td>31</td>\n",
       "      <td>0.310968</td>\n",
       "      <td>0.135658</td>\n",
       "      <td>0.009590</td>\n",
       "      <td>0.016319</td>\n",
       "      <td>0.448016</td>\n",
       "      <td>pony_vs_the_killjoys_pool_013_1.txt</td>\n",
       "    </tr>\n",
       "  </tbody>\n",
       "</table>\n",
       "</div>"
      ],
      "text/plain": [
       "    cls         x         y         w         h      conf  \\\n",
       "0    31  0.699563  0.102965  0.010986  0.019179  0.914857   \n",
       "9    31  0.342411  0.104897  0.009255  0.016351  0.699574   \n",
       "12   31  0.731543  0.135071  0.010216  0.017926  0.637236   \n",
       "13   32  0.519936  0.182404  0.009739  0.016709  0.625701   \n",
       "16   31  0.310968  0.135658  0.009590  0.016319  0.448016   \n",
       "\n",
       "                                  frame  \n",
       "0   pony_vs_the_killjoys_pool_013_1.txt  \n",
       "9   pony_vs_the_killjoys_pool_013_1.txt  \n",
       "12  pony_vs_the_killjoys_pool_013_1.txt  \n",
       "13  pony_vs_the_killjoys_pool_013_1.txt  \n",
       "16  pony_vs_the_killjoys_pool_013_1.txt  "
      ]
     },
     "execution_count": 36,
     "metadata": {},
     "output_type": "execute_result"
    }
   ],
   "source": [
    "#def convert_single_tracking_result_from_txt(df: pd.DataFrame):\n",
    "print(os.getcwd())\n",
    "keypoints_df = read_prediction_dataframe_from_dir(folder=\"../../runs/detect/predict6/labels\", is_tracking=False)\n",
    "print(len(keypoints_df))\n",
    "keypoints_df.head()"
   ]
  },
  {
   "cell_type": "code",
   "execution_count": 42,
   "metadata": {},
   "outputs": [
    {
     "name": "stdout",
     "output_type": "stream",
     "text": [
      "33517\n"
     ]
    }
   ],
   "source": [
    "keypoints_df[keypoints_df[\"frame\"]==\"pony_vs_the_killjoys_pool_013_1.txt\"]\n",
    "#keypoints_df[keypoints_df[\"cls\"] == 32]\n",
    "keypoints_df.head()\n",
    "print(len(keypoints_df))\n"
   ]
  },
  {
   "cell_type": "code",
   "execution_count": 59,
   "metadata": {},
   "outputs": [],
   "source": [
    "def get_ratio_of_frames_with_less_than_n_cones(df: pd.DataFrame, n: int=4) -> float:\n",
    "    df_filtered = df.groupby('frame').filter(lambda row: len(row[row[\"cls\"]==31]) < n)\n",
    "    return len(df_filtered['frame'].unique())/len(df['frame'].unique())"
   ]
  },
  {
   "cell_type": "code",
   "execution_count": 60,
   "metadata": {},
   "outputs": [
    {
     "name": "stdout",
     "output_type": "stream",
     "text": [
      "Percent of frames with less than 4 keypoints: 70.32063896284292 %\n"
     ]
    }
   ],
   "source": [
    "ratio = get_ratio_of_frames_with_less_than_n_cones(keypoints_df, n=4)\n",
    "print(f\"Percent of frames with less than 4 keypoints: {ratio*100} %\")"
   ]
  },
  {
   "cell_type": "code",
   "execution_count": null,
   "metadata": {},
   "outputs": [],
   "source": []
  },
  {
   "cell_type": "code",
   "execution_count": 46,
   "metadata": {},
   "outputs": [
    {
     "name": "stdout",
     "output_type": "stream",
     "text": [
      "19090\n"
     ]
    },
    {
     "data": {
      "text/html": [
       "<div>\n",
       "<style scoped>\n",
       "    .dataframe tbody tr th:only-of-type {\n",
       "        vertical-align: middle;\n",
       "    }\n",
       "\n",
       "    .dataframe tbody tr th {\n",
       "        vertical-align: top;\n",
       "    }\n",
       "\n",
       "    .dataframe thead th {\n",
       "        text-align: right;\n",
       "    }\n",
       "</style>\n",
       "<table border=\"1\" class=\"dataframe\">\n",
       "  <thead>\n",
       "    <tr style=\"text-align: right;\">\n",
       "      <th></th>\n",
       "      <th>cls</th>\n",
       "      <th>x</th>\n",
       "      <th>y</th>\n",
       "      <th>w</th>\n",
       "      <th>h</th>\n",
       "      <th>conf</th>\n",
       "      <th>id</th>\n",
       "      <th>frame</th>\n",
       "    </tr>\n",
       "  </thead>\n",
       "  <tbody>\n",
       "    <tr>\n",
       "      <th>3</th>\n",
       "      <td>32</td>\n",
       "      <td>0.500280</td>\n",
       "      <td>0.276708</td>\n",
       "      <td>0.010053</td>\n",
       "      <td>0.017431</td>\n",
       "      <td>0.955173</td>\n",
       "      <td>4</td>\n",
       "      <td>machine_vs_condors_pool_006_1.txt</td>\n",
       "    </tr>\n",
       "    <tr>\n",
       "      <th>8</th>\n",
       "      <td>32</td>\n",
       "      <td>0.501809</td>\n",
       "      <td>0.323580</td>\n",
       "      <td>0.010426</td>\n",
       "      <td>0.018345</td>\n",
       "      <td>0.941980</td>\n",
       "      <td>9</td>\n",
       "      <td>machine_vs_condors_pool_006_1.txt</td>\n",
       "    </tr>\n",
       "    <tr>\n",
       "      <th>13</th>\n",
       "      <td>31</td>\n",
       "      <td>0.299682</td>\n",
       "      <td>0.233273</td>\n",
       "      <td>0.009490</td>\n",
       "      <td>0.017113</td>\n",
       "      <td>0.904370</td>\n",
       "      <td>14</td>\n",
       "      <td>machine_vs_condors_pool_006_1.txt</td>\n",
       "    </tr>\n",
       "    <tr>\n",
       "      <th>14</th>\n",
       "      <td>31</td>\n",
       "      <td>0.698093</td>\n",
       "      <td>0.229010</td>\n",
       "      <td>0.010256</td>\n",
       "      <td>0.017395</td>\n",
       "      <td>0.889027</td>\n",
       "      <td>15</td>\n",
       "      <td>machine_vs_condors_pool_006_1.txt</td>\n",
       "    </tr>\n",
       "    <tr>\n",
       "      <th>16</th>\n",
       "      <td>31</td>\n",
       "      <td>0.327827</td>\n",
       "      <td>0.200379</td>\n",
       "      <td>0.009752</td>\n",
       "      <td>0.016872</td>\n",
       "      <td>0.867725</td>\n",
       "      <td>17</td>\n",
       "      <td>machine_vs_condors_pool_006_1.txt</td>\n",
       "    </tr>\n",
       "  </tbody>\n",
       "</table>\n",
       "</div>"
      ],
      "text/plain": [
       "    cls         x         y         w         h      conf  id  \\\n",
       "3    32  0.500280  0.276708  0.010053  0.017431  0.955173   4   \n",
       "8    32  0.501809  0.323580  0.010426  0.018345  0.941980   9   \n",
       "13   31  0.299682  0.233273  0.009490  0.017113  0.904370  14   \n",
       "14   31  0.698093  0.229010  0.010256  0.017395  0.889027  15   \n",
       "16   31  0.327827  0.200379  0.009752  0.016872  0.867725  17   \n",
       "\n",
       "                                frame  \n",
       "3   machine_vs_condors_pool_006_1.txt  \n",
       "8   machine_vs_condors_pool_006_1.txt  \n",
       "13  machine_vs_condors_pool_006_1.txt  \n",
       "14  machine_vs_condors_pool_006_1.txt  \n",
       "16  machine_vs_condors_pool_006_1.txt  "
      ]
     },
     "execution_count": 46,
     "metadata": {},
     "output_type": "execute_result"
    }
   ],
   "source": [
    "condors_keypoints_df = read_prediction_dataframe_from_dir(folder=\"../../runs/detect/track2/labels\", is_tracking=True)\n",
    "print(len(condors_keypoints_df))\n",
    "condors_keypoints_df.head()"
   ]
  }
 ],
 "metadata": {
  "kernelspec": {
   "display_name": "dsrVideo1",
   "language": "python",
   "name": "python3"
  },
  "language_info": {
   "codemirror_mode": {
    "name": "ipython",
    "version": 3
   },
   "file_extension": ".py",
   "mimetype": "text/x-python",
   "name": "python",
   "nbconvert_exporter": "python",
   "pygments_lexer": "ipython3",
   "version": "3.11.0"
  }
 },
 "nbformat": 4,
 "nbformat_minor": 2
}
