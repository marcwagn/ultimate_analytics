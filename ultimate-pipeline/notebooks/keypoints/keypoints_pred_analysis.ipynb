{
 "cells": [
  {
   "cell_type": "markdown",
   "metadata": {},
   "source": [
    "### Analyze outliers in detection/prediction results on test data"
   ]
  },
  {
   "cell_type": "code",
   "execution_count": 4,
   "metadata": {},
   "outputs": [],
   "source": [
    "import pandas as pd\n",
    "import numpy as np\n",
    "import os"
   ]
  },
  {
   "cell_type": "code",
   "execution_count": 5,
   "metadata": {},
   "outputs": [],
   "source": [
    "def read_prediction_dataframe_from_dir(folder: str, is_tracking=False) -> pd.DataFrame:\n",
    "    file_list = sorted(os.listdir(folder))\n",
    "    dfs = []\n",
    "    for i, file_name in enumerate(file_list):\n",
    "        #print(f)\n",
    "        columns=[\"cls\", \"x\", \"y\", \"w\", \"h\", \"conf\", \"id\"] if is_tracking else [\"cls\", \"x\", \"y\", \"w\", \"h\", \"conf\"]\n",
    "\n",
    "        df = pd.read_csv(os.path.join(folder, file_name), sep=\" \", header=None, names=columns)\n",
    "        df[\"frame\"] = i\n",
    "        df[\"filename\"] = file_name\n",
    "        keypoints_df = df[df[\"cls\"] >= 31]\n",
    "        dfs.append(keypoints_df)\n",
    "\n",
    "    return pd.concat(dfs)"
   ]
  },
  {
   "cell_type": "markdown",
   "metadata": {},
   "source": [
    "# 13-classes keypoints model"
   ]
  },
  {
   "cell_type": "markdown",
   "metadata": {},
   "source": [
    "### Pony vs The Killjoy - Pool 013\n",
    "#### 2 keypoints classes variant: cone (31), midpoint(32)\n",
    "Loading prediction/tracking data"
   ]
  },
  {
   "cell_type": "code",
   "execution_count": 6,
   "metadata": {},
   "outputs": [
    {
     "name": "stdout",
     "output_type": "stream",
     "text": [
      "55810\n"
     ]
    },
    {
     "data": {
      "text/html": [
       "<div>\n",
       "<style scoped>\n",
       "    .dataframe tbody tr th:only-of-type {\n",
       "        vertical-align: middle;\n",
       "    }\n",
       "\n",
       "    .dataframe tbody tr th {\n",
       "        vertical-align: top;\n",
       "    }\n",
       "\n",
       "    .dataframe thead th {\n",
       "        text-align: right;\n",
       "    }\n",
       "</style>\n",
       "<table border=\"1\" class=\"dataframe\">\n",
       "  <thead>\n",
       "    <tr style=\"text-align: right;\">\n",
       "      <th></th>\n",
       "      <th>cls</th>\n",
       "      <th>x</th>\n",
       "      <th>y</th>\n",
       "      <th>w</th>\n",
       "      <th>h</th>\n",
       "      <th>conf</th>\n",
       "      <th>id</th>\n",
       "      <th>frame</th>\n",
       "      <th>filename</th>\n",
       "    </tr>\n",
       "  </thead>\n",
       "  <tbody>\n",
       "    <tr>\n",
       "      <th>3</th>\n",
       "      <td>31</td>\n",
       "      <td>0.699340</td>\n",
       "      <td>0.103258</td>\n",
       "      <td>0.009634</td>\n",
       "      <td>0.017423</td>\n",
       "      <td>0.943481</td>\n",
       "      <td>4</td>\n",
       "      <td>0</td>\n",
       "      <td>pony_vs_the_killjoys_pool_013_1.txt</td>\n",
       "    </tr>\n",
       "    <tr>\n",
       "      <th>7</th>\n",
       "      <td>32</td>\n",
       "      <td>0.518308</td>\n",
       "      <td>0.306945</td>\n",
       "      <td>0.014788</td>\n",
       "      <td>0.026235</td>\n",
       "      <td>0.909432</td>\n",
       "      <td>8</td>\n",
       "      <td>0</td>\n",
       "      <td>pony_vs_the_killjoys_pool_013_1.txt</td>\n",
       "    </tr>\n",
       "    <tr>\n",
       "      <th>9</th>\n",
       "      <td>31</td>\n",
       "      <td>0.342385</td>\n",
       "      <td>0.105246</td>\n",
       "      <td>0.009379</td>\n",
       "      <td>0.017071</td>\n",
       "      <td>0.889964</td>\n",
       "      <td>10</td>\n",
       "      <td>0</td>\n",
       "      <td>pony_vs_the_killjoys_pool_013_1.txt</td>\n",
       "    </tr>\n",
       "    <tr>\n",
       "      <th>10</th>\n",
       "      <td>32</td>\n",
       "      <td>0.519433</td>\n",
       "      <td>0.232265</td>\n",
       "      <td>0.011592</td>\n",
       "      <td>0.020488</td>\n",
       "      <td>0.887180</td>\n",
       "      <td>11</td>\n",
       "      <td>0</td>\n",
       "      <td>pony_vs_the_killjoys_pool_013_1.txt</td>\n",
       "    </tr>\n",
       "    <tr>\n",
       "      <th>11</th>\n",
       "      <td>31</td>\n",
       "      <td>0.311012</td>\n",
       "      <td>0.136410</td>\n",
       "      <td>0.008984</td>\n",
       "      <td>0.016713</td>\n",
       "      <td>0.880367</td>\n",
       "      <td>12</td>\n",
       "      <td>0</td>\n",
       "      <td>pony_vs_the_killjoys_pool_013_1.txt</td>\n",
       "    </tr>\n",
       "  </tbody>\n",
       "</table>\n",
       "</div>"
      ],
      "text/plain": [
       "    cls         x         y         w         h      conf  id  frame  \\\n",
       "3    31  0.699340  0.103258  0.009634  0.017423  0.943481   4      0   \n",
       "7    32  0.518308  0.306945  0.014788  0.026235  0.909432   8      0   \n",
       "9    31  0.342385  0.105246  0.009379  0.017071  0.889964  10      0   \n",
       "10   32  0.519433  0.232265  0.011592  0.020488  0.887180  11      0   \n",
       "11   31  0.311012  0.136410  0.008984  0.016713  0.880367  12      0   \n",
       "\n",
       "                               filename  \n",
       "3   pony_vs_the_killjoys_pool_013_1.txt  \n",
       "7   pony_vs_the_killjoys_pool_013_1.txt  \n",
       "9   pony_vs_the_killjoys_pool_013_1.txt  \n",
       "10  pony_vs_the_killjoys_pool_013_1.txt  \n",
       "11  pony_vs_the_killjoys_pool_013_1.txt  "
      ]
     },
     "execution_count": 6,
     "metadata": {},
     "output_type": "execute_result"
    }
   ],
   "source": [
    "#print(os.getcwd())\n",
    "keypoints_df = read_prediction_dataframe_from_dir(folder=\"../../runs/detect/track3/labels\", is_tracking=True)\n",
    "print(len(keypoints_df))\n",
    "keypoints_df.head(5)"
   ]
  },
  {
   "cell_type": "code",
   "execution_count": 7,
   "metadata": {},
   "outputs": [],
   "source": [
    "conf_threshold = 0.5\n",
    "cones_threshold = 4"
   ]
  },
  {
   "cell_type": "code",
   "execution_count": 8,
   "metadata": {},
   "outputs": [],
   "source": [
    "def get_ratio_of_frames_with_less_than_n_cones(df: pd.DataFrame, n: int=4, conf_threshold=conf_threshold) -> float:\n",
    "    df_filtered = df.groupby('frame').filter(lambda group: len(group[((group[\"cls\"]==31) & (group[\"conf\"] > conf_threshold))]) < n)\n",
    "    #print(df_filtered['frame'].head())\n",
    "    return len(df_filtered['frame'].unique())/len(df['frame'].unique())"
   ]
  },
  {
   "cell_type": "code",
   "execution_count": 9,
   "metadata": {},
   "outputs": [
    {
     "name": "stdout",
     "output_type": "stream",
     "text": [
      "Percent of frames with less than 4 keypoints with confidence threshold 50.0 % --> 18.90265076976502 %\n"
     ]
    }
   ],
   "source": [
    "ratio = get_ratio_of_frames_with_less_than_n_cones(keypoints_df, n=cones_threshold, conf_threshold=0.6)\n",
    "print(f\"Percent of frames with less than {cones_threshold} keypoints with confidence threshold {conf_threshold*100} % --> {ratio*100} %\")"
   ]
  },
  {
   "cell_type": "code",
   "execution_count": 10,
   "metadata": {},
   "outputs": [
    {
     "data": {
      "text/plain": [
       "Series([], Name: id, dtype: float64)"
      ]
     },
     "execution_count": 10,
     "metadata": {},
     "output_type": "execute_result"
    }
   ],
   "source": [
    "ponys_keypoints_df = keypoints_df.copy()\n",
    "if \"filename\" in ponys_keypoints_df.columns:\n",
    "    del ponys_keypoints_df[\"filename\"]\n",
    "ponys_counts_by_frame = ponys_keypoints_df[ponys_keypoints_df[\"cls\"]==31].groupby(\"frame\")[\"id\"].aggregate('count')\n",
    "# ponys_keypoints_df = ponys_keypoints_df.rolling(window=10).max()\n",
    "# ponys_keypoints_df[ponys_keypoints_df < 4]\n",
    "#ponys_counts_by_frame\n",
    "ponys_counts_by_frame_series = ponys_counts_by_frame.rolling(window=15).max()\n",
    "ponys_counts_by_frame_series[ponys_counts_by_frame_series < 4]"
   ]
  },
  {
   "cell_type": "code",
   "execution_count": 11,
   "metadata": {},
   "outputs": [
    {
     "data": {
      "text/html": [
       "<div>\n",
       "<style scoped>\n",
       "    .dataframe tbody tr th:only-of-type {\n",
       "        vertical-align: middle;\n",
       "    }\n",
       "\n",
       "    .dataframe tbody tr th {\n",
       "        vertical-align: top;\n",
       "    }\n",
       "\n",
       "    .dataframe thead th {\n",
       "        text-align: right;\n",
       "    }\n",
       "</style>\n",
       "<table border=\"1\" class=\"dataframe\">\n",
       "  <thead>\n",
       "    <tr style=\"text-align: right;\">\n",
       "      <th></th>\n",
       "      <th>cls</th>\n",
       "      <th>x</th>\n",
       "      <th>y</th>\n",
       "      <th>w</th>\n",
       "      <th>h</th>\n",
       "      <th>conf</th>\n",
       "      <th>id</th>\n",
       "      <th>frame</th>\n",
       "      <th>filename</th>\n",
       "    </tr>\n",
       "  </thead>\n",
       "  <tbody>\n",
       "    <tr>\n",
       "      <th>3</th>\n",
       "      <td>31</td>\n",
       "      <td>0.699340</td>\n",
       "      <td>0.103258</td>\n",
       "      <td>0.009634</td>\n",
       "      <td>0.017423</td>\n",
       "      <td>0.943481</td>\n",
       "      <td>4</td>\n",
       "      <td>0</td>\n",
       "      <td>pony_vs_the_killjoys_pool_013_1.txt</td>\n",
       "    </tr>\n",
       "    <tr>\n",
       "      <th>7</th>\n",
       "      <td>32</td>\n",
       "      <td>0.518308</td>\n",
       "      <td>0.306945</td>\n",
       "      <td>0.014788</td>\n",
       "      <td>0.026235</td>\n",
       "      <td>0.909432</td>\n",
       "      <td>8</td>\n",
       "      <td>0</td>\n",
       "      <td>pony_vs_the_killjoys_pool_013_1.txt</td>\n",
       "    </tr>\n",
       "    <tr>\n",
       "      <th>9</th>\n",
       "      <td>31</td>\n",
       "      <td>0.342385</td>\n",
       "      <td>0.105246</td>\n",
       "      <td>0.009379</td>\n",
       "      <td>0.017071</td>\n",
       "      <td>0.889964</td>\n",
       "      <td>10</td>\n",
       "      <td>0</td>\n",
       "      <td>pony_vs_the_killjoys_pool_013_1.txt</td>\n",
       "    </tr>\n",
       "    <tr>\n",
       "      <th>10</th>\n",
       "      <td>32</td>\n",
       "      <td>0.519433</td>\n",
       "      <td>0.232265</td>\n",
       "      <td>0.011592</td>\n",
       "      <td>0.020488</td>\n",
       "      <td>0.887180</td>\n",
       "      <td>11</td>\n",
       "      <td>0</td>\n",
       "      <td>pony_vs_the_killjoys_pool_013_1.txt</td>\n",
       "    </tr>\n",
       "    <tr>\n",
       "      <th>11</th>\n",
       "      <td>31</td>\n",
       "      <td>0.311012</td>\n",
       "      <td>0.136410</td>\n",
       "      <td>0.008984</td>\n",
       "      <td>0.016713</td>\n",
       "      <td>0.880367</td>\n",
       "      <td>12</td>\n",
       "      <td>0</td>\n",
       "      <td>pony_vs_the_killjoys_pool_013_1.txt</td>\n",
       "    </tr>\n",
       "  </tbody>\n",
       "</table>\n",
       "</div>"
      ],
      "text/plain": [
       "    cls         x         y         w         h      conf  id  frame  \\\n",
       "3    31  0.699340  0.103258  0.009634  0.017423  0.943481   4      0   \n",
       "7    32  0.518308  0.306945  0.014788  0.026235  0.909432   8      0   \n",
       "9    31  0.342385  0.105246  0.009379  0.017071  0.889964  10      0   \n",
       "10   32  0.519433  0.232265  0.011592  0.020488  0.887180  11      0   \n",
       "11   31  0.311012  0.136410  0.008984  0.016713  0.880367  12      0   \n",
       "\n",
       "                               filename  \n",
       "3   pony_vs_the_killjoys_pool_013_1.txt  \n",
       "7   pony_vs_the_killjoys_pool_013_1.txt  \n",
       "9   pony_vs_the_killjoys_pool_013_1.txt  \n",
       "10  pony_vs_the_killjoys_pool_013_1.txt  \n",
       "11  pony_vs_the_killjoys_pool_013_1.txt  "
      ]
     },
     "execution_count": 11,
     "metadata": {},
     "output_type": "execute_result"
    }
   ],
   "source": [
    "keypoints_df.head()"
   ]
  },
  {
   "cell_type": "markdown",
   "metadata": {},
   "source": [
    "### Machine vs Condors - Pool 006\n",
    "#### 2 keypoints classes variant: cone (31), midpoint(32)\n",
    "Loading prediction/tracking data"
   ]
  },
  {
   "cell_type": "code",
   "execution_count": 12,
   "metadata": {},
   "outputs": [
    {
     "name": "stdout",
     "output_type": "stream",
     "text": [
      "19090\n"
     ]
    },
    {
     "data": {
      "text/html": [
       "<div>\n",
       "<style scoped>\n",
       "    .dataframe tbody tr th:only-of-type {\n",
       "        vertical-align: middle;\n",
       "    }\n",
       "\n",
       "    .dataframe tbody tr th {\n",
       "        vertical-align: top;\n",
       "    }\n",
       "\n",
       "    .dataframe thead th {\n",
       "        text-align: right;\n",
       "    }\n",
       "</style>\n",
       "<table border=\"1\" class=\"dataframe\">\n",
       "  <thead>\n",
       "    <tr style=\"text-align: right;\">\n",
       "      <th></th>\n",
       "      <th>cls</th>\n",
       "      <th>x</th>\n",
       "      <th>y</th>\n",
       "      <th>w</th>\n",
       "      <th>h</th>\n",
       "      <th>conf</th>\n",
       "      <th>id</th>\n",
       "      <th>frame</th>\n",
       "      <th>filename</th>\n",
       "    </tr>\n",
       "  </thead>\n",
       "  <tbody>\n",
       "    <tr>\n",
       "      <th>3</th>\n",
       "      <td>32</td>\n",
       "      <td>0.500280</td>\n",
       "      <td>0.276708</td>\n",
       "      <td>0.010053</td>\n",
       "      <td>0.017431</td>\n",
       "      <td>0.955173</td>\n",
       "      <td>4</td>\n",
       "      <td>0</td>\n",
       "      <td>machine_vs_condors_pool_006_1.txt</td>\n",
       "    </tr>\n",
       "    <tr>\n",
       "      <th>8</th>\n",
       "      <td>32</td>\n",
       "      <td>0.501809</td>\n",
       "      <td>0.323580</td>\n",
       "      <td>0.010426</td>\n",
       "      <td>0.018345</td>\n",
       "      <td>0.941980</td>\n",
       "      <td>9</td>\n",
       "      <td>0</td>\n",
       "      <td>machine_vs_condors_pool_006_1.txt</td>\n",
       "    </tr>\n",
       "    <tr>\n",
       "      <th>13</th>\n",
       "      <td>31</td>\n",
       "      <td>0.299682</td>\n",
       "      <td>0.233273</td>\n",
       "      <td>0.009490</td>\n",
       "      <td>0.017113</td>\n",
       "      <td>0.904370</td>\n",
       "      <td>14</td>\n",
       "      <td>0</td>\n",
       "      <td>machine_vs_condors_pool_006_1.txt</td>\n",
       "    </tr>\n",
       "    <tr>\n",
       "      <th>14</th>\n",
       "      <td>31</td>\n",
       "      <td>0.698093</td>\n",
       "      <td>0.229010</td>\n",
       "      <td>0.010256</td>\n",
       "      <td>0.017395</td>\n",
       "      <td>0.889027</td>\n",
       "      <td>15</td>\n",
       "      <td>0</td>\n",
       "      <td>machine_vs_condors_pool_006_1.txt</td>\n",
       "    </tr>\n",
       "    <tr>\n",
       "      <th>16</th>\n",
       "      <td>31</td>\n",
       "      <td>0.327827</td>\n",
       "      <td>0.200379</td>\n",
       "      <td>0.009752</td>\n",
       "      <td>0.016872</td>\n",
       "      <td>0.867725</td>\n",
       "      <td>17</td>\n",
       "      <td>0</td>\n",
       "      <td>machine_vs_condors_pool_006_1.txt</td>\n",
       "    </tr>\n",
       "  </tbody>\n",
       "</table>\n",
       "</div>"
      ],
      "text/plain": [
       "    cls         x         y         w         h      conf  id  frame  \\\n",
       "3    32  0.500280  0.276708  0.010053  0.017431  0.955173   4      0   \n",
       "8    32  0.501809  0.323580  0.010426  0.018345  0.941980   9      0   \n",
       "13   31  0.299682  0.233273  0.009490  0.017113  0.904370  14      0   \n",
       "14   31  0.698093  0.229010  0.010256  0.017395  0.889027  15      0   \n",
       "16   31  0.327827  0.200379  0.009752  0.016872  0.867725  17      0   \n",
       "\n",
       "                             filename  \n",
       "3   machine_vs_condors_pool_006_1.txt  \n",
       "8   machine_vs_condors_pool_006_1.txt  \n",
       "13  machine_vs_condors_pool_006_1.txt  \n",
       "14  machine_vs_condors_pool_006_1.txt  \n",
       "16  machine_vs_condors_pool_006_1.txt  "
      ]
     },
     "execution_count": 12,
     "metadata": {},
     "output_type": "execute_result"
    }
   ],
   "source": [
    "condors_keypoints_df = read_prediction_dataframe_from_dir(folder=\"../../runs/detect/track2/labels\", is_tracking=True)\n",
    "print(len(condors_keypoints_df))\n",
    "condors_keypoints_df.head()"
   ]
  },
  {
   "cell_type": "code",
   "execution_count": 13,
   "metadata": {},
   "outputs": [
    {
     "name": "stdout",
     "output_type": "stream",
     "text": [
      "Percent of frames with less than 4 keypoints with confidence threshold 50.0 % --> 32.686868686868685 %\n"
     ]
    }
   ],
   "source": [
    "ratio = get_ratio_of_frames_with_less_than_n_cones(condors_keypoints_df, n=4, conf_threshold=0.5)\n",
    "print(f\"Percent of frames with less than {cones_threshold} keypoints with confidence threshold {conf_threshold*100} % --> {ratio*100} %\")"
   ]
  },
  {
   "cell_type": "code",
   "execution_count": 14,
   "metadata": {},
   "outputs": [
    {
     "name": "stdout",
     "output_type": "stream",
     "text": [
      "Number of images with fewer than 4 cones inside rolling window of length=10: 68\n"
     ]
    }
   ],
   "source": [
    "condors_counts_by_frame = condors_keypoints_df[condors_keypoints_df[\"cls\"]==31].groupby(\"frame\")[\"id\"].aggregate('count')\n",
    "window_len = 10\n",
    "cones_threshold = 4\n",
    "condors_smoothed_series = condors_counts_by_frame.rolling(window=window_len).max()\n",
    "print(f\"Number of images with fewer than {4} cones inside rolling window of length={window_len}: {len(condors_smoothed_series[condors_smoothed_series < cones_threshold])}\")"
   ]
  },
  {
   "cell_type": "markdown",
   "metadata": {},
   "source": [
    "# 13-classes keypoints model"
   ]
  },
  {
   "cell_type": "markdown",
   "metadata": {},
   "source": [
    "### Pony vs The Killjoy - Pool 013\n",
    "#### 13 keypoints classes variant\n",
    "Loading prediction/tracking data"
   ]
  },
  {
   "cell_type": "code",
   "execution_count": 15,
   "metadata": {},
   "outputs": [
    {
     "name": "stdout",
     "output_type": "stream",
     "text": [
      "22643\n"
     ]
    },
    {
     "data": {
      "text/html": [
       "<div>\n",
       "<style scoped>\n",
       "    .dataframe tbody tr th:only-of-type {\n",
       "        vertical-align: middle;\n",
       "    }\n",
       "\n",
       "    .dataframe tbody tr th {\n",
       "        vertical-align: top;\n",
       "    }\n",
       "\n",
       "    .dataframe thead th {\n",
       "        text-align: right;\n",
       "    }\n",
       "</style>\n",
       "<table border=\"1\" class=\"dataframe\">\n",
       "  <thead>\n",
       "    <tr style=\"text-align: right;\">\n",
       "      <th></th>\n",
       "      <th>cls</th>\n",
       "      <th>x</th>\n",
       "      <th>y</th>\n",
       "      <th>w</th>\n",
       "      <th>h</th>\n",
       "      <th>conf</th>\n",
       "      <th>id</th>\n",
       "      <th>frame</th>\n",
       "      <th>filename</th>\n",
       "    </tr>\n",
       "  </thead>\n",
       "  <tbody>\n",
       "    <tr>\n",
       "      <th>2</th>\n",
       "      <td>36</td>\n",
       "      <td>0.518324</td>\n",
       "      <td>0.271519</td>\n",
       "      <td>0.009460</td>\n",
       "      <td>0.016470</td>\n",
       "      <td>0.969942</td>\n",
       "      <td>3</td>\n",
       "      <td>0</td>\n",
       "      <td>pony_vs_the_killjoys_pool_004_1.txt</td>\n",
       "    </tr>\n",
       "    <tr>\n",
       "      <th>4</th>\n",
       "      <td>34</td>\n",
       "      <td>0.321885</td>\n",
       "      <td>0.224127</td>\n",
       "      <td>0.008479</td>\n",
       "      <td>0.015690</td>\n",
       "      <td>0.965040</td>\n",
       "      <td>5</td>\n",
       "      <td>0</td>\n",
       "      <td>pony_vs_the_killjoys_pool_004_1.txt</td>\n",
       "    </tr>\n",
       "    <tr>\n",
       "      <th>11</th>\n",
       "      <td>33</td>\n",
       "      <td>0.522141</td>\n",
       "      <td>0.206899</td>\n",
       "      <td>0.008848</td>\n",
       "      <td>0.015378</td>\n",
       "      <td>0.927504</td>\n",
       "      <td>12</td>\n",
       "      <td>0</td>\n",
       "      <td>pony_vs_the_killjoys_pool_004_1.txt</td>\n",
       "    </tr>\n",
       "    <tr>\n",
       "      <th>12</th>\n",
       "      <td>31</td>\n",
       "      <td>0.352514</td>\n",
       "      <td>0.190828</td>\n",
       "      <td>0.008629</td>\n",
       "      <td>0.014922</td>\n",
       "      <td>0.900049</td>\n",
       "      <td>13</td>\n",
       "      <td>0</td>\n",
       "      <td>pony_vs_the_killjoys_pool_004_1.txt</td>\n",
       "    </tr>\n",
       "    <tr>\n",
       "      <th>14</th>\n",
       "      <td>32</td>\n",
       "      <td>0.694432</td>\n",
       "      <td>0.191096</td>\n",
       "      <td>0.008541</td>\n",
       "      <td>0.015429</td>\n",
       "      <td>0.889788</td>\n",
       "      <td>15</td>\n",
       "      <td>0</td>\n",
       "      <td>pony_vs_the_killjoys_pool_004_1.txt</td>\n",
       "    </tr>\n",
       "  </tbody>\n",
       "</table>\n",
       "</div>"
      ],
      "text/plain": [
       "    cls         x         y         w         h      conf  id  frame  \\\n",
       "2    36  0.518324  0.271519  0.009460  0.016470  0.969942   3      0   \n",
       "4    34  0.321885  0.224127  0.008479  0.015690  0.965040   5      0   \n",
       "11   33  0.522141  0.206899  0.008848  0.015378  0.927504  12      0   \n",
       "12   31  0.352514  0.190828  0.008629  0.014922  0.900049  13      0   \n",
       "14   32  0.694432  0.191096  0.008541  0.015429  0.889788  15      0   \n",
       "\n",
       "                               filename  \n",
       "2   pony_vs_the_killjoys_pool_004_1.txt  \n",
       "4   pony_vs_the_killjoys_pool_004_1.txt  \n",
       "11  pony_vs_the_killjoys_pool_004_1.txt  \n",
       "12  pony_vs_the_killjoys_pool_004_1.txt  \n",
       "14  pony_vs_the_killjoys_pool_004_1.txt  "
      ]
     },
     "execution_count": 15,
     "metadata": {},
     "output_type": "execute_result"
    }
   ],
   "source": [
    "ponys_13cls_df = read_prediction_dataframe_from_dir(folder=\"../../runs/detect/track4/labels\", is_tracking=True)\n",
    "print(len(ponys_13cls_df))\n",
    "ponys_13cls_df.head(5)"
   ]
  },
  {
   "cell_type": "markdown",
   "metadata": {},
   "source": [
    "Eligible pairs of keypoints that run on parallel lines:\n",
    "- 31, 32 (TLC,TRC)\n",
    "- 34, 35 (TLF, TRF)\n",
    "- 39, 40 (BLF, BRF)\n",
    "- 41, 42 (BLC, BRC; practically never visible)"
   ]
  },
  {
   "cell_type": "code",
   "execution_count": 16,
   "metadata": {},
   "outputs": [
    {
     "name": "stdout",
     "output_type": "stream",
     "text": [
      "2\n"
     ]
    },
    {
     "data": {
      "text/plain": [
       "keypoint_line\n",
       "TC    2\n",
       "TF    2\n",
       "Name: cls, dtype: int64"
      ]
     },
     "execution_count": 16,
     "metadata": {},
     "output_type": "execute_result"
    }
   ],
   "source": [
    "candidate_clsid_pairs = np.array([[31,32],[34,35],[39,40],[41,42]])\n",
    "keypoint_lines_map = {31: \"TC\", 32: \"TC\", 34: \"TF\", 35: \"TF\", 39: \"BF\", 40: \"BF\", 41: \"BC\", 42: \"BC\"}\n",
    "single_frame_df = ponys_13cls_df[ponys_13cls_df[\"frame\"]==0]\n",
    "single_frame_df = single_frame_df[(single_frame_df[\"cls\"].isin(candidate_clsid_pairs.flatten())) & (single_frame_df[\"conf\"] > conf_threshold)]\n",
    "single_frame_df[\"keypoint_line\"] = single_frame_df[\"cls\"].apply(lambda c: keypoint_lines_map[c])\n",
    "keypoint_counts = single_frame_df.groupby(\"keypoint_line\")[\"cls\"].aggregate(\"count\")\n",
    "print(len(keypoint_counts[keypoint_counts > 1]))\n",
    "keypoint_counts[keypoint_counts > 1]\n"
   ]
  },
  {
   "cell_type": "code",
   "execution_count": 17,
   "metadata": {},
   "outputs": [],
   "source": [
    "def get_number_of_keypoint_pairs(group: pd.DataFrame) -> int:\n",
    "    mask = (group[\"cls\"].isin(candidate_clsid_pairs.flatten())) & (group[\"conf\"] > conf_threshold)\n",
    "    candidate_cls_df = group[mask].copy(deep=False)\n",
    "    #df2 = group.loc[mask, :]\n",
    "    candidate_cls_df[\"keypoint_line\"] = candidate_cls_df[\"cls\"].apply(lambda c: keypoint_lines_map[c])\n",
    "    keypoint_counts = candidate_cls_df.groupby(\"keypoint_line\")[\"cls\"].aggregate(\"count\")\n",
    "    return len(keypoint_counts[keypoint_counts >= 2])\n",
    "\n",
    "def get_ratio_of_frames_with_fewer_than_2x2_keypoints(df: pd.DataFrame, n: int=2, conf_threshold=conf_threshold) -> float:\n",
    "    df_filtered = df.groupby('frame').filter(lambda g: get_number_of_keypoint_pairs(g) < n)\n",
    "    return len(df_filtered['frame'].unique())/len(df['frame'].unique())"
   ]
  },
  {
   "cell_type": "code",
   "execution_count": 18,
   "metadata": {},
   "outputs": [
    {
     "name": "stdout",
     "output_type": "stream",
     "text": [
      "Percent of frames with fewer than 2 pairs of keypoints with confidence threshold 50.0 % --> 4.192229038854806 %\n"
     ]
    }
   ],
   "source": [
    "ratio = get_ratio_of_frames_with_fewer_than_2x2_keypoints(ponys_13cls_df, n=2, conf_threshold=0.6)\n",
    "print(f\"Percent of frames with fewer than 2 pairs of keypoints with confidence threshold {conf_threshold*100} % --> {ratio*100} %\")"
   ]
  },
  {
   "cell_type": "code",
   "execution_count": 19,
   "metadata": {},
   "outputs": [
    {
     "name": "stdout",
     "output_type": "stream",
     "text": [
      "Frames with fewer than 2 pairs of keypoints with confidence threshold\n"
     ]
    },
    {
     "name": "stderr",
     "output_type": "stream",
     "text": [
      "/tmp/ipykernel_104289/500672142.py:1: DeprecationWarning: DataFrameGroupBy.apply operated on the grouping columns. This behavior is deprecated, and in a future version of pandas the grouping columns will be excluded from the operation. Either pass `include_groups=False` to exclude the groupings or explicitly select the grouping columns after groupby to silence this warning.\n",
      "  insufficient_pairs = ponys_13cls_df.groupby('frame').apply(get_number_of_keypoint_pairs, include_groups=True)\n"
     ]
    },
    {
     "data": {
      "text/plain": [
       "frame\n",
       "122    1\n",
       "132    1\n",
       "137    1\n",
       "152    1\n",
       "172    1\n",
       "dtype: int64"
      ]
     },
     "execution_count": 19,
     "metadata": {},
     "output_type": "execute_result"
    }
   ],
   "source": [
    "insufficient_pairs = ponys_13cls_df.groupby('frame').apply(get_number_of_keypoint_pairs, include_groups=True)\n",
    "print(\"Frames with fewer than 2 pairs of keypoints with confidence threshold\")\n",
    "insufficient_pairs[insufficient_pairs < 2].head(5)"
   ]
  },
  {
   "cell_type": "code",
   "execution_count": 20,
   "metadata": {},
   "outputs": [],
   "source": [
    "# See https://stackoverflow.com/questions/63737187/how-to-apply-a-custom-rolling-function-to-pandas-groupby\n",
    "#ponys_13cls_df.groupby(\"frame\").rolling(window=5).apply(lambda g: 1.0)\n",
    "#ponys_13cls_df.groupby(\"frame\").apply(lambda g: g.rolling(2).apply(get_number_of_keypoint_pairs, kwargs={}))"
   ]
  },
  {
   "cell_type": "code",
   "execution_count": 21,
   "metadata": {},
   "outputs": [],
   "source": [
    "# def filter_and_augment_with_keypoint_columns(df: pd.DataFrame) -> pd.DataFrame:\n",
    "#     mask = (df[\"cls\"].isin(candidate_clsid_pairs.flatten())) & (df[\"conf\"] > conf_threshold)\n",
    "#     candidate_cls_df = df[mask].copy(deep=False)\n",
    "#     candidate_cls_df[\"keypoint_line\"] = candidate_cls_df[\"cls\"].apply(lambda c: keypoints_to_lines_map[c][\"line\"])\n",
    "#     candidate_cls_df[\"keypoint_line_boe\"] = candidate_cls_df[\"cls\"].apply(lambda c: keypoints_to_lines_map[c][\"boe\"])\n",
    "#     candidate_cls_df[\"keypoint_line_pref\"] = candidate_cls_df[\"cls\"].apply(lambda c: keypoints_to_lines_map[c][\"pref\"])\n",
    "#     return candidate_cls_df"
   ]
  },
  {
   "cell_type": "code",
   "execution_count": 22,
   "metadata": {},
   "outputs": [],
   "source": [
    "keypoints_to_lines_map = {\n",
    "    31: dict(name=\"TLC\", line=\"TC\", boe=0, pref=3),\n",
    "    32: dict(name=\"TRC\", line=\"TC\", boe=1, pref=3),\n",
    "    34: dict(name=\"TLF\", line=\"TF\", boe=0, pref=2),\n",
    "    35: dict(name=\"TRF\", line=\"TF\", boe=1, pref=2),\n",
    "    39: dict(name=\"BLF\", line=\"BF\", boe=0, pref=1),\n",
    "    40: dict(name=\"BRF\", line=\"BF\", boe=1, pref=1),\n",
    "    41: dict(name=\"BLC\", line=\"BC\", boe=0, pref=0),\n",
    "    42: dict(name=\"BRC\", line=\"BC\", boe=1, pref=0),\n",
    "}"
   ]
  },
  {
   "cell_type": "code",
   "execution_count": 30,
   "metadata": {},
   "outputs": [
    {
     "data": {
      "text/html": [
       "<div>\n",
       "<style scoped>\n",
       "    .dataframe tbody tr th:only-of-type {\n",
       "        vertical-align: middle;\n",
       "    }\n",
       "\n",
       "    .dataframe tbody tr th {\n",
       "        vertical-align: top;\n",
       "    }\n",
       "\n",
       "    .dataframe thead th {\n",
       "        text-align: right;\n",
       "    }\n",
       "</style>\n",
       "<table border=\"1\" class=\"dataframe\">\n",
       "  <thead>\n",
       "    <tr style=\"text-align: right;\">\n",
       "      <th></th>\n",
       "      <th>cls</th>\n",
       "      <th>x</th>\n",
       "      <th>y</th>\n",
       "      <th>w</th>\n",
       "      <th>h</th>\n",
       "      <th>conf</th>\n",
       "      <th>id</th>\n",
       "      <th>frame</th>\n",
       "      <th>filename</th>\n",
       "      <th>keypoint_line</th>\n",
       "      <th>keypoint_line_lr</th>\n",
       "    </tr>\n",
       "  </thead>\n",
       "  <tbody>\n",
       "    <tr>\n",
       "      <th>6</th>\n",
       "      <td>35</td>\n",
       "      <td>0.826798</td>\n",
       "      <td>0.374655</td>\n",
       "      <td>0.010504</td>\n",
       "      <td>0.018855</td>\n",
       "      <td>0.931251</td>\n",
       "      <td>19</td>\n",
       "      <td>122</td>\n",
       "      <td>pony_vs_the_killjoys_pool_004_1108.txt</td>\n",
       "      <td>TF</td>\n",
       "      <td>1</td>\n",
       "    </tr>\n",
       "    <tr>\n",
       "      <th>1</th>\n",
       "      <td>34</td>\n",
       "      <td>0.150880</td>\n",
       "      <td>0.377311</td>\n",
       "      <td>0.009848</td>\n",
       "      <td>0.017698</td>\n",
       "      <td>0.471962</td>\n",
       "      <td>5</td>\n",
       "      <td>122</td>\n",
       "      <td>pony_vs_the_killjoys_pool_004_1108.txt</td>\n",
       "      <td>TF</td>\n",
       "      <td>0</td>\n",
       "    </tr>\n",
       "    <tr>\n",
       "      <th>4</th>\n",
       "      <td>32</td>\n",
       "      <td>0.754572</td>\n",
       "      <td>0.287550</td>\n",
       "      <td>0.010910</td>\n",
       "      <td>0.019457</td>\n",
       "      <td>0.867787</td>\n",
       "      <td>15</td>\n",
       "      <td>122</td>\n",
       "      <td>pony_vs_the_killjoys_pool_004_1108.txt</td>\n",
       "      <td>TC</td>\n",
       "      <td>0</td>\n",
       "    </tr>\n",
       "    <tr>\n",
       "      <th>3</th>\n",
       "      <td>31</td>\n",
       "      <td>0.229559</td>\n",
       "      <td>0.290498</td>\n",
       "      <td>0.010561</td>\n",
       "      <td>0.018556</td>\n",
       "      <td>0.929126</td>\n",
       "      <td>13</td>\n",
       "      <td>122</td>\n",
       "      <td>pony_vs_the_killjoys_pool_004_1108.txt</td>\n",
       "      <td>TC</td>\n",
       "      <td>1</td>\n",
       "    </tr>\n",
       "  </tbody>\n",
       "</table>\n",
       "</div>"
      ],
      "text/plain": [
       "   cls         x         y         w         h      conf  id  frame  \\\n",
       "6   35  0.826798  0.374655  0.010504  0.018855  0.931251  19    122   \n",
       "1   34  0.150880  0.377311  0.009848  0.017698  0.471962   5    122   \n",
       "4   32  0.754572  0.287550  0.010910  0.019457  0.867787  15    122   \n",
       "3   31  0.229559  0.290498  0.010561  0.018556  0.929126  13    122   \n",
       "\n",
       "                                 filename keypoint_line  keypoint_line_lr  \n",
       "6  pony_vs_the_killjoys_pool_004_1108.txt            TF                 1  \n",
       "1  pony_vs_the_killjoys_pool_004_1108.txt            TF                 0  \n",
       "4  pony_vs_the_killjoys_pool_004_1108.txt            TC                 0  \n",
       "3  pony_vs_the_killjoys_pool_004_1108.txt            TC                 1  "
      ]
     },
     "execution_count": 30,
     "metadata": {},
     "output_type": "execute_result"
    }
   ],
   "source": [
    "# import keypoints_helper\n",
    "first_frame = ponys_13cls_df[(ponys_13cls_df[\"frame\"]==122) & (ponys_13cls_df[\"cls\"].isin(keypoints_to_lines_map.keys()))].copy()\n",
    "#df = keypoints_helper._augment_detection_dataframe_with_keypoint_columns(first_frame)\n",
    "first_frame[\"keypoint_line\"] = first_frame[\"cls\"].apply(lambda c: keypoints_to_lines_map[c][\"line\"])\n",
    "first_frame[\"keypoint_line_lr\"] = first_frame[\"cls\"].apply(lambda c: c % 2) # simplification\n",
    "df_sorted = first_frame.sort_values(by=[\"cls\"], ascending=False)\n",
    "df_sorted\n"
   ]
  },
  {
   "cell_type": "code",
   "execution_count": 44,
   "metadata": {},
   "outputs": [
    {
     "data": {
      "text/html": [
       "<div>\n",
       "<style scoped>\n",
       "    .dataframe tbody tr th:only-of-type {\n",
       "        vertical-align: middle;\n",
       "    }\n",
       "\n",
       "    .dataframe tbody tr th {\n",
       "        vertical-align: top;\n",
       "    }\n",
       "\n",
       "    .dataframe thead th {\n",
       "        text-align: right;\n",
       "    }\n",
       "</style>\n",
       "<table border=\"1\" class=\"dataframe\">\n",
       "  <thead>\n",
       "    <tr style=\"text-align: right;\">\n",
       "      <th></th>\n",
       "      <th>keypoint_line</th>\n",
       "      <th>count</th>\n",
       "    </tr>\n",
       "  </thead>\n",
       "  <tbody>\n",
       "    <tr>\n",
       "      <th>0</th>\n",
       "      <td>TC</td>\n",
       "      <td>2</td>\n",
       "    </tr>\n",
       "    <tr>\n",
       "      <th>1</th>\n",
       "      <td>TF</td>\n",
       "      <td>2</td>\n",
       "    </tr>\n",
       "  </tbody>\n",
       "</table>\n",
       "</div>"
      ],
      "text/plain": [
       "  keypoint_line  count\n",
       "0            TC      2\n",
       "1            TF      2"
      ]
     },
     "execution_count": 44,
     "metadata": {},
     "output_type": "execute_result"
    }
   ],
   "source": [
    "#df_agg = df_sorted.groupby(\"keypoint_line\").aggregate(\"count\").asof()\n",
    "#df_agg = df_sorted.groupby(\"keypoint_line\").agg({'count':('keypoint_line', 'count')})\n",
    "df_agg = df_sorted.groupby(\"keypoint_line\").agg(count=('keypoint_line', 'count')).reset_index()\n",
    "#df_agg[\"extra\"]=\n",
    "df_agg"
   ]
  },
  {
   "cell_type": "code",
   "execution_count": 24,
   "metadata": {},
   "outputs": [
    {
     "data": {
      "text/plain": [
       "array([0.826798, 0.374655], dtype=float32)"
      ]
     },
     "execution_count": 24,
     "metadata": {},
     "output_type": "execute_result"
    }
   ],
   "source": [
    "index_mask = df_sorted[\"cls\"]==32\n",
    "np.float32(df_sorted.loc[index_mask.index[0], \"x\":\"y\"])"
   ]
  },
  {
   "cell_type": "code",
   "execution_count": 25,
   "metadata": {},
   "outputs": [
    {
     "data": {
      "text/plain": [
       "Index(['TC', 'TF'], dtype='object', name='keypoint_line')"
      ]
     },
     "execution_count": 25,
     "metadata": {},
     "output_type": "execute_result"
    }
   ],
   "source": [
    "s_keypoints_by_count = df_sorted.groupby(\"keypoint_line\")[\"keypoint_line\"].aggregate(\"count\").sort_values()\n",
    "\n",
    "s_at_least_2 = s_keypoints_by_count[s_keypoints_by_count == 2]\n",
    "keypoint_line_keys = s_at_least_2.keys()\n",
    "keypoint_line_keys"
   ]
  }
 ],
 "metadata": {
  "kernelspec": {
   "display_name": "dsrVideo1",
   "language": "python",
   "name": "python3"
  },
  "language_info": {
   "codemirror_mode": {
    "name": "ipython",
    "version": 3
   },
   "file_extension": ".py",
   "mimetype": "text/x-python",
   "name": "python",
   "nbconvert_exporter": "python",
   "pygments_lexer": "ipython3",
   "version": "3.11.0"
  }
 },
 "nbformat": 4,
 "nbformat_minor": 2
}
