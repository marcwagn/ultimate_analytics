{
 "cells": [
  {
   "cell_type": "code",
   "execution_count": null,
   "metadata": {},
   "outputs": [],
   "source": [
    "# Translating image coordinates to pitch coordinates with homography"
   ]
  },
  {
   "cell_type": "markdown",
   "metadata": {},
   "source": [
    "## Calculating 4 corners of the pitch"
   ]
  },
  {
   "cell_type": "markdown",
   "metadata": {},
   "source": [
    "- Assumption 1: We have 4 corners of a sub-area, e.g. TLC-TRC-TLF-TRF\n",
    "- Assumption 2: Areas on the video are parallel, i.e. the camera stays in the centre"
   ]
  },
  {
   "cell_type": "markdown",
   "metadata": {},
   "source": [
    "## Calculate the top vertex of the triangle containing the projected view\n"
   ]
  },
  {
   "cell_type": "code",
   "execution_count": 6,
   "metadata": {},
   "outputs": [],
   "source": [
    "from typing import Tuple, Union\n",
    "import numpy as np\n",
    "\n",
    "def calculate_intersection_of_lines(segment1: np.ndarray, segment2: np.ndarray) -> Union[Tuple[float, float], None]:\n",
    "    \"\"\"\n",
    "    Calculate intersection of lines defined by segments.\n",
    "    Reference: https://en.wikipedia.org/wiki/Line%E2%80%93line_intersection#Given_two_points_on_each_line\n",
    "    Return coordinates of a point of intersection, or None if lines defined by segments are parallel.\n",
    "    \"\"\"\n",
    "    if segment1.shape != (4,):\n",
    "        raise ValueError(\"segment1 must be a vector of size 4\")\n",
    "    if segment2.shape != (4,):\n",
    "        raise ValueError(\"segment2 must be a vector of size 4\")\n",
    "    x1, y1, x2, y2 = segment1[0], segment1[1], segment1[2], segment1[3]\n",
    "    x3, y3, x4, y4 = segment2[0], segment2[1], segment2[2], segment2[3]\n",
    "\n",
    "    def quarter_determinant(arr: np.ndarray) -> float:\n",
    "        \"\"\"Given a matrix of size 4x4, calculate a determinant of 4 determinants from each quarter\n",
    "        \"\"\"\n",
    "        if arr.shape != (4,4):\n",
    "            raise ValueError(\"arr must be a matrix of size 4x4\")\n",
    "        a1 = np.linalg.det(arr[0:2,0:2])\n",
    "        a2 = np.linalg.det(arr[0:2,2:4])\n",
    "        a3 = np.linalg.det(arr[2:4, 0:2])\n",
    "        a4 = np.linalg.det(arr[2:4, 2:4])\n",
    "        return np.linalg.det(np.array([[a1, a2], [a3, a4]]))\n",
    "\n",
    "    px_num = np.array([\n",
    "        [x1, y1, x1, 1],\n",
    "        [x2, y2, x2, 1],\n",
    "        [x3, y3, x3, 1],\n",
    "        [x4, y4, x4, 1]])\n",
    "    # px_div = np.array([\n",
    "    #     [x1, 1, y1, 1],\n",
    "    #     [x2, 1, y2, 1],\n",
    "    #     [x3, 1, y3, 1],\n",
    "    #     [x4, 1, y4, 1]])\n",
    "    py_num = np.array([\n",
    "        [x1, y1, y1, 1],\n",
    "        [x2, y2, y2, 1],\n",
    "        [x3, y3, y3, 1],\n",
    "        [x4, y4, y4, 1]])\n",
    "    pxy_div = np.array([\n",
    "        [x1, 1, y1, 1],\n",
    "        [x2, 1, y2, 1],\n",
    "        [x3, 1, y3, 1],\n",
    "        [x4, 1, y4, 1]])\n",
    "    \n",
    "    div_det = quarter_determinant(pxy_div)\n",
    "    if abs(div_det) < 0.00001:\n",
    "        # segment1 and segment2 seem to be parallel\n",
    "        return None\n",
    "    px = quarter_determinant(px_num)/div_det\n",
    "    py = quarter_determinant(py_num)/div_det\n",
    "    return px, py\n"
   ]
  },
  {
   "cell_type": "markdown",
   "metadata": {},
   "source": [
    "Example:\n",
    "31 0.699563 0.102965 0.0109856 0.0191795 0.914857  #TRC\n",
    "31 0.342411 0.104897 0.00925484 0.0163508 0.699574 #TLC\n",
    "31 0.731543 0.135071 0.0102163 0.0179255 0.637236  #TRF\n",
    "31 0.310968 0.135658 0.00958964 0.0163189 0.448016  #TLF"
   ]
  },
  {
   "cell_type": "code",
   "execution_count": 7,
   "metadata": {},
   "outputs": [
    {
     "name": "stdout",
     "output_type": "stream",
     "text": [
      "(0.5242705938932326, -0.07301805160925191)\n"
     ]
    }
   ],
   "source": [
    "segment1 = np.array([0.310968, 0.135658, 0.342411, 0.104897])  #TLF-TLC\n",
    "segment2 = np.array([0.731543, 0.135071, 0.699563, 0.102965])  #TRF-TRC\n",
    "print(calculate_intersection_of_lines(segment1, segment2))"
   ]
  },
  {
   "cell_type": "markdown",
   "metadata": {},
   "source": [
    "# Find homography"
   ]
  },
  {
   "cell_type": "code",
   "execution_count": 39,
   "metadata": {},
   "outputs": [
    {
     "name": "stdout",
     "output_type": "stream",
     "text": [
      "(4, 2)\n",
      "[[ 4.44144122e-03 -3.78778794e+00  1.17167545e+02]\n",
      " [ 5.61176098e-02 -1.74173122e+00  5.20352682e+01]\n",
      " [ 2.22072061e-05 -3.27443489e-02  1.00000000e+00]]\n",
      "[120.  80.   1.]\n"
     ]
    }
   ],
   "source": [
    "import cv2\n",
    "\n",
    "# Define the corresponding points in the two images\n",
    "points1 = np.float32([[240, 17], [1, 20], [20, 30], [30, 30]])\n",
    "print(points1.shape)\n",
    "points2 = np.float32([[120, 80], [120, 50], [200, 50], [200, 80]])\n",
    "\n",
    "# Calculate the homography matrix\n",
    "H, mask = cv2.findHomography(points1, points2)\n",
    "\n",
    "print(H)\n",
    "pt = np.dot(H, np.float32([240, 17, 1]))\n",
    "pt = pt/pt[2]\n",
    "print(pt)"
   ]
  },
  {
   "cell_type": "code",
   "execution_count": 40,
   "metadata": {},
   "outputs": [
    {
     "name": "stdout",
     "output_type": "stream",
     "text": [
      "[[ 1.18920673e+01 -1.53363315e+02  1.20153769e+01]\n",
      " [-4.38007353e-01 -8.09704958e+01  8.64354063e+00]\n",
      " [-2.96646610e-02 -8.31785968e+00  1.00000000e+00]]\n"
     ]
    }
   ],
   "source": [
    "import cv2\n",
    "#pitch_points = [[0.310968, 0.135658], [0.342411, 0.104897], [0.731543, 0.135071, 0.699563, 0.102965]]\n",
    "#src_points = np.array(cv2.Point2f\n",
    "src_points = np.array([[0.342411, 0.104897], [0.699563, 0.102965], [0.310968, 0.135658], [0.731543, 0.135071]])\n",
    "assert src_points.shape == (4,2)\n",
    "dst_points = np.array([[0,0],[37,0],[0,18],[37,18]])\n",
    "H, mask = cv2.findHomography(src_points, dst_points)\n",
    "print(H)"
   ]
  },
  {
   "cell_type": "code",
   "execution_count": 48,
   "metadata": {},
   "outputs": [
    {
     "name": "stdout",
     "output_type": "stream",
     "text": [
      "v: [0.342411 0.104897 1.      ]; converted: [0. 0. 1.]\n",
      "v: [0.699563 0.102965 1.      ]; converted: [3.7000000e+01 1.4465529e-14 1.0000000e+00]\n",
      "v: [0.310968 0.135658 1.      ]; converted: [37. 18.  1.]\n",
      "v: [0.731543 0.135071 1.      ]; converted: [-0. 18.  1.]\n"
     ]
    }
   ],
   "source": [
    "def convert_h(H, vec):\n",
    "    pt = np.dot(H, vec)\n",
    "    return pt/pt[2]\n",
    "\n",
    "vectors = np.float32([\n",
    "    [0.342411, 0.104897, 1],\n",
    "    [0.699563, 0.102965, 1],\n",
    "    [0.310968, 0.135658, 1],\n",
    "    [0.731543, 0.135071, 1]])\n",
    "for v in vectors[:,0:3]:\n",
    "    print(f\"v: {v}; converted: {convert_h(H, v)}\")\n",
    "#convert_h(H, vec)"
   ]
  },
  {
   "cell_type": "code",
   "execution_count": 34,
   "metadata": {},
   "outputs": [
    {
     "name": "stdout",
     "output_type": "stream",
     "text": [
      "[[330. ]\n",
      " [265. ]\n",
      " [  1.5]]\n",
      "[[220.        ]\n",
      " [176.66666667]\n",
      " [  1.        ]]\n"
     ]
    }
   ],
   "source": [
    "import cv2\n",
    "import numpy as np\n",
    "\n",
    "# Define the homography matrix H\n",
    "H = np.array([[1.4, 0.05, -100], [0.05, 1.5, -50], [0.001, 0.001, 1]])\n",
    "\n",
    "# Define a point in the first image\n",
    "point1 = np.array([[300], [200], [1]])\n",
    "#point1 = np.array([300, 200, 1])\n",
    "\n",
    "# Use the homography matrix to translate the point to the second image\n",
    "point2 = np.dot(H, point1)\n",
    "print(point2)\n",
    "# Convert the point back to Cartesian coordinates\n",
    "point2 = point2 / point2[2]\n",
    "\n",
    "print(point2)"
   ]
  }
 ],
 "metadata": {
  "kernelspec": {
   "display_name": "dsrVideo1",
   "language": "python",
   "name": "python3"
  },
  "language_info": {
   "codemirror_mode": {
    "name": "ipython",
    "version": 3
   },
   "file_extension": ".py",
   "mimetype": "text/x-python",
   "name": "python",
   "nbconvert_exporter": "python",
   "pygments_lexer": "ipython3",
   "version": "3.11.0"
  }
 },
 "nbformat": 4,
 "nbformat_minor": 2
}
